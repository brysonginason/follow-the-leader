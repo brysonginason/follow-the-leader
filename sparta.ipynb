{
  "nbformat": 4,
  "nbformat_minor": 0,
  "metadata": {
    "colab": {
      "provenance": []
    },
    "kernelspec": {
      "name": "python3",
      "display_name": "Python 3"
    },
    "language_info": {
      "name": "python"
    }
  },
  "cells": [
    {
      "cell_type": "code",
      "execution_count": null,
      "metadata": {
        "id": "VYlIFAwD6uhb"
      },
      "outputs": [],
      "source": [
        "import numpy as np\n",
        "import networkx as nx\n",
        "import matplotlib.pyplot as plt\n",
        "np.set_printoptions(linewidth=200)"
      ]
    },
    {
      "cell_type": "code",
      "source": [
        "# Generates d independent Brownian motions of size n with drift, volatility\n",
        "def brownian_motion(steps, n, mu, sigma, dt=1):\n",
        "    \"\"\"\n",
        "    Parameters:\n",
        "        steps (int): Number of time steps.\n",
        "        n (int): Number of independent Brownian motions.\n",
        "        mu (float): Drift term (default is 0).\n",
        "        sigma (float): Volatility term (default is 1).\n",
        "        dt (float): Time step size (default is 1).\n",
        "    \"\"\"\n",
        "    mu = np.asarray(mu).reshape(n, 1)      # Ensure mu is (n,1) for broadcasting\n",
        "    sigma = np.asarray(sigma).reshape(n, 1) # Ensure sigma is (n,1) for broadcasting\n",
        "\n",
        "    dW = np.sqrt(dt) * np.random.randn(n, steps)  # Standard Brownian increments\n",
        "    W = np.cumsum(sigma * dW, axis=1)  # Scale by volatility and integrate\n",
        "    t = np.arange(1, steps + 1) * dt  # Time steps\n",
        "    drift = mu * t  # Linear drift component\n",
        "\n",
        "    return W + drift  # Add drift"
      ],
      "metadata": {
        "id": "Qc2VkuPj7LJD"
      },
      "execution_count": null,
      "outputs": []
    },
    {
      "cell_type": "code",
      "source": [
        "def replace_diagonal_with_minus_one(matrix):\n",
        "        np.fill_diagonal(matrix, -1)\n",
        "        return matrix"
      ],
      "metadata": {
        "id": "RvnyryJc7NNI"
      },
      "execution_count": null,
      "outputs": []
    },
    {
      "cell_type": "code",
      "source": [
        "# Update wealth based on Brownian motion.\n",
        "def update_wealth(wealth, bm_vector):\n",
        "    \"\"\"\n",
        "    Parameters:\n",
        "        wealth (numpy.ndarray): Vector of wealth for each player.\n",
        "        bm_vector (numpy.ndarray): Brownian motion vector (n x steps).\n",
        "    \"\"\"\n",
        "    return wealth * (1 + bm_vector[:, -1])"
      ],
      "metadata": {
        "id": "pf5RhwU67jE9"
      },
      "execution_count": null,
      "outputs": []
    },
    {
      "cell_type": "code",
      "source": [
        "def topk_with_forced_index(prob_vector, i):\n",
        "    n = len(prob_vector)\n",
        "    k = max(5, int(np.ceil(n / 100)))\n",
        "\n",
        "    # Get indices of top-k values\n",
        "    topk_indices = np.argpartition(prob_vector, -k)[-k:]\n",
        "\n",
        "    # Create filtered vector\n",
        "    filtered = np.zeros_like(prob_vector)\n",
        "    filtered[topk_indices] = prob_vector[topk_indices]\n",
        "\n",
        "    # Renormalize\n",
        "    total = np.sum(filtered)\n",
        "    if total > 0:\n",
        "        filtered /= total\n",
        "\n",
        "    return filtered"
      ],
      "metadata": {
        "id": "QWxWFDqe7QEz"
      },
      "execution_count": null,
      "outputs": []
    },
    {
      "cell_type": "code",
      "source": [
        "def copyingProbability(wealth, bm_vector, alpha, beta):\n",
        "    n = len(wealth)  # Number of players\n",
        "    probability_matrix = np.zeros((n, n))  # Initialize the probability matrix\n",
        "    wealth_norm = wealth / np.sum(wealth)\n",
        "\n",
        "    for i in range(n):\n",
        "        probability_vec = np.zeros(n)  # Initialize the probability vector for player i\n",
        "\n",
        "        for j in range(n):\n",
        "            # Compute the probability for player i comparing with player j\n",
        "            diff_bm = bm_vector[j].item() - bm_vector[i].item()  # Difference in final BM values\n",
        "            diff_wealth = wealth_norm[j].item() - wealth_norm[i].item()  # Difference in wealth values\n",
        "\n",
        "            # Formula for probability\n",
        "            probability_vec[j] = alpha * diff_bm + beta * diff_wealth\n",
        "\n",
        "        # Clip values in the probability vector to 0 if less than 0\n",
        "        probability_vec = np.clip(probability_vec, 0, None)\n",
        "\n",
        "        # Calculate the total: sum of vector + number of zeros in the vector\n",
        "        zero_count =  np.count_nonzero(probability_vec == 0)\n",
        "        probability_vec[i] = zero_count / n\n",
        "        total = np.sum(probability_vec)\n",
        "\n",
        "        # Normalize the vector based on the total\n",
        "        if total > 0:  # Avoid division by zero\n",
        "            probability_vec /= total\n",
        "\n",
        "        probability_vec = topk_with_forced_index(probability_vec, i)\n",
        "\n",
        "        # Update the probability matrix\n",
        "        probability_matrix[i, :] = probability_vec\n",
        "\n",
        "    return probability_matrix"
      ],
      "metadata": {
        "id": "gvDvlNeG7S1z"
      },
      "execution_count": null,
      "outputs": []
    },
    {
      "cell_type": "code",
      "source": [
        "def networkInitial(n, wealth):\n",
        "    # Create graph\n",
        "    G = nx.DiGraph()\n",
        "\n",
        "    # Add nodes\n",
        "    G.add_nodes_from(range(n))\n",
        "\n",
        "    # Positioning (spring layout for better spacing)\n",
        "    pos = nx.spring_layout(G, seed=42)\n",
        "    plt.figure(figsize=(10, 10))  # Increase figure size\n",
        "\n",
        "    # Draw nodes with size based on wealth\n",
        "    nx.draw_networkx_nodes(G, pos, node_size=wealth, node_color='white', edgecolors='black', linewidths=0.5)\n",
        "\n",
        "    # Draw labels\n",
        "    nx.draw_networkx_labels(G, pos, font_size=12, font_weight='bold')\n",
        "\n",
        "    plt.title(\"Initial Network Graph with Node Sizes Based on Wealth\")\n",
        "    plt.show()"
      ],
      "metadata": {
        "id": "ND_y--lv7Vj9"
      },
      "execution_count": null,
      "outputs": []
    },
    {
      "cell_type": "code",
      "source": [
        "from mpl_toolkits.axes_grid1.inset_locator import inset_axes\n",
        "\n",
        "def networkMaker(n, weightEdges, performanceVector, iterationCount, alpha, beta):\n",
        "    # Create directed graph\n",
        "    G = nx.DiGraph()\n",
        "    G.add_nodes_from(range(n))\n",
        "    threshold = 0\n",
        "\n",
        "    # Add edges with weights\n",
        "    for i in range(n):\n",
        "        for j in range(n):\n",
        "            if i != j and weightEdges[i, j] > threshold:\n",
        "                G.add_edge(i, j, weight=weightEdges[i, j])\n",
        "\n",
        "    performanceVector = np.array(performanceVector).flatten()\n",
        "    performanceVector = np.clip(performanceVector, None, 1)\n",
        "    wealth_norm = wealth / np.sum(wealth)\n",
        "\n",
        "    # Compute positions: radial layout with high-performance nodes near center\n",
        "    angles = np.linspace(0, 2 * np.pi, n, endpoint=False)\n",
        "    combined_score = alpha * performanceVector + beta * wealth_norm\n",
        "    combined_score = (combined_score - combined_score.min()) / (combined_score.max() - combined_score.min())\n",
        "\n",
        "    NODE_SIZE_MULTIPLIER = 40000  # Adjust this value to control node sizes\n",
        "    node_sizes = NODE_SIZE_MULTIPLIER * wealth_norm\n",
        "\n",
        "    radii = 0.5 + (1.0 - combined_score)  # radius now ranges from 0.5 to 1.5\n",
        "\n",
        "    pos = {\n",
        "        i: (radii[i] * np.cos(angles[i]), radii[i] * np.sin(angles[i]))\n",
        "        for i in range(n)\n",
        "    }\n",
        "\n",
        "    # Node coloring based on bm_vector\n",
        "    node_colors = [\n",
        "        (1 - abs(bm), 1, 1 - abs(bm)) if bm > 0 else (1, 1 - abs(bm), 1 - abs(bm))\n",
        "        for bm in performanceVector\n",
        "    ]  # Green for positive, red for negative\n",
        "\n",
        "    plt.figure(figsize=(14, 14))\n",
        "\n",
        "    # Draw nodes with custom colors\n",
        "    nx.draw_networkx_nodes(G, pos, node_color=node_colors, node_size=node_sizes, edgecolors='black', linewidths=0.5)\n",
        "\n",
        "    # Edge properties\n",
        "    edges = G.edges(data=True)\n",
        "    edge_weights = np.array([d['weight'] for (u, v, d) in edges])\n",
        "    edge_colors = edge_weights / edge_weights.max() if edge_weights.max() > 0 else edge_weights\n",
        "\n",
        "    # Draw edges\n",
        "    nx.draw_networkx_edges(\n",
        "        G, pos, edgelist=edges, width=[w * 5 for w in edge_weights],\n",
        "        alpha=0.7, edge_color=edge_colors,\n",
        "        edge_cmap=plt.cm.Blues, edge_vmin=0, edge_vmax=1\n",
        "    )\n",
        "\n",
        "    # Labels\n",
        "    nx.draw_networkx_labels(G, pos, font_size=10, font_weight='bold')\n",
        "\n",
        "    # Colorbar for edge weights\n",
        "    sm = plt.cm.ScalarMappable(cmap=plt.cm.Blues, norm=plt.Normalize(vmin=0, vmax=1))\n",
        "    sm.set_array([])\n",
        "    cbar = plt.colorbar(sm, ax=plt.gca(), label=\"Edge Weight Intensity\", fraction=0.028, pad=0.06)\n",
        "\n",
        "    plt.title(\"Weighted Network Graph at t = \" + str(iterationCount + 1))\n",
        "    plt.axis('off')\n",
        "\n",
        "    # Normalize performanceVector for color mapping\n",
        "    norm_perf = plt.Normalize(vmin=performanceVector.min(), vmax=performanceVector.max())\n",
        "    sm_nodes = plt.cm.ScalarMappable(cmap=plt.cm.RdYlGn, norm=norm_perf)\n",
        "    sm_nodes.set_array([])\n",
        "\n",
        "\n",
        "    # Colorbar for node performance\n",
        "    cbar_nodes = plt.colorbar(sm_nodes, ax=plt.gca(), fraction=0.03, pad=0.04)\n",
        "    cbar_nodes.set_label(\"Node Performance\")\n",
        "\n",
        "    plt.show()"
      ],
      "metadata": {
        "id": "EaVCIDY17ZDZ"
      },
      "execution_count": null,
      "outputs": []
    },
    {
      "cell_type": "code",
      "source": [
        "def process_time_step_n(prob_matrix, performanceVec, wealth, alpha, beta):\n",
        "\n",
        "    system = replace_diagonal_with_minus_one(prob_matrix)\n",
        "\n",
        "    # Creates the b vector\n",
        "    diag_elements = np.diag(prob_matrix)\n",
        "    RHS = diag_elements * performanceVec.ravel() * -1\n",
        "\n",
        "    # Solves the system and applies it to prob_matrix\n",
        "    v = np.linalg.solve(system, RHS)\n",
        "    phase2 = np.matmul(prob_matrix, v)\n",
        "\n",
        "    # Updates everything\n",
        "    wealth = update_wealth(wealth, phase2.reshape(n, 1))\n",
        "    prob_matrix = copyingProbability(wealth, phase2, alpha, beta)\n",
        "\n",
        "    return wealth, prob_matrix"
      ],
      "metadata": {
        "id": "H0yQaW_p7bix"
      },
      "execution_count": null,
      "outputs": []
    },
    {
      "cell_type": "code",
      "source": [
        "n = 50 # Number of players\n",
        "\n",
        "# Parameters for capital per person\n",
        "wealth =  np.random.randint(low = 250, high = 1000, size=n)\n",
        "\n",
        "# Paramets for drfit\n",
        "low = -0.5\n",
        "high = 0.5\n",
        "mu = np.random.uniform(low, high, size=n)\n",
        "\n",
        "# Vector for volatility\n",
        "low = 0.1\n",
        "high = 0.2\n",
        "sigma = np.random.uniform(low, high, size=n)\n",
        "\n",
        "# networkInitial(n, wealth) # 0 Time step\n",
        "alpha = 1 # Performance weight parameter\n",
        "beta = 0 # Wealth weight parameter\n",
        "steps = 1000  # Number of time steps"
      ],
      "metadata": {
        "id": "7OpNThxW7cPf"
      },
      "execution_count": null,
      "outputs": []
    },
    {
      "cell_type": "code",
      "source": [
        "wealth =  np.random.randint(low = 250, high = 1000, size=n)\n",
        "# networkInitial(n, wealth) # 0 Time step\n",
        "alpha = 1 # Performance weight parameter\n",
        "beta = 0 # Wealth weight parameter\n",
        "steps = 1000  # Number of time steps\n",
        "\n",
        "for i in range(steps):\n",
        "  if i == 0:\n",
        "    bm_vector = brownian_motion(1, n, mu, sigma)\n",
        "    bm_vector = np.clip(bm_vector, -0.90, None) # Government intervention\n",
        "\n",
        "    wealth = update_wealth(wealth, bm_vector)\n",
        "    prob_matrix = copyingProbability(wealth, bm_vector, alpha , beta)\n",
        "\n",
        "  else:\n",
        "    bm_vector = brownian_motion(1, n, mu, sigma)\n",
        "    bm_vector = np.clip(bm_vector, -0.90, None) # Government intervention\n",
        "    wealth, prob_matrix = process_time_step_n(prob_matrix, bm_vector, wealth, alpha , beta)\n",
        "    if i in {0, 24, 49, 99, 499, 999}:\n",
        "      column_sums = prob_matrix.sum(axis=0)\n",
        "      rounded_sums = np.round(column_sums, 3)\n",
        "      for idx, val in enumerate(rounded_sums):\n",
        "        print(f\"Node {idx}: {val}\")\n",
        "\n",
        "\n",
        "  if i in {0, 24, 49, 99, 499, 999}:\n",
        "    networkMaker(n, prob_matrix, bm_vector, i, alpha, beta)"
      ],
      "metadata": {
        "colab": {
          "base_uri": "https://localhost:8080/",
          "height": 1000
        },
        "id": "cUyVv4OGgyKK",
        "outputId": "e67d6627-f529-4f75-ada3-9dcf745627ee",
        "collapsed": true
      },
      "execution_count": null,
      "outputs": []
    },
    {
      "cell_type": "code",
      "source": [
        "wealth =  np.random.randint(low = 250, high = 1000, size=n)\n",
        "# networkInitial(n, wealth) # 0 Time step\n",
        "alpha = 1 # Performance weight parameter\n",
        "beta = 1 # Wealth weight parameter\n",
        "steps = 1000  # Number of time steps\n",
        "\n",
        "for i in range(steps):\n",
        "  if i == 0:\n",
        "    bm_vector = brownian_motion(1, n, mu, sigma)\n",
        "    bm_vector = np.clip(bm_vector, -0.90, None) # Government intervention\n",
        "\n",
        "    wealth = update_wealth(wealth, bm_vector)\n",
        "    prob_matrix = copyingProbability(wealth, bm_vector, alpha , beta)\n",
        "\n",
        "  else:\n",
        "    bm_vector = brownian_motion(1, n, mu, sigma)\n",
        "    bm_vector = np.clip(bm_vector, -0.90, None) # Government intervention\n",
        "    wealth, prob_matrix = process_time_step_n(prob_matrix, bm_vector, wealth, alpha , beta)\n",
        "    if i in {0, 24, 49, 99, 499, 999}:\n",
        "      column_sums = prob_matrix.sum(axis=0)\n",
        "      rounded_sums = np.round(column_sums, 3)\n",
        "      for idx, val in enumerate(rounded_sums):\n",
        "        print(f\"Node {idx}: {val}\")\n",
        "\n",
        "\n",
        "  if i in {0, 24, 49, 99, 499, 999}:\n",
        "    networkMaker(n, prob_matrix, bm_vector, i, alpha, beta)"
      ],
      "metadata": {
        "colab": {
          "base_uri": "https://localhost:8080/",
          "height": 1000
        },
        "id": "hRm1Q1HNL0LD",
        "outputId": "dc676a58-40ed-42f4-bf4c-738f13eaff9b",
        "collapsed": true
      },
      "execution_count": null,
      "outputs": []
    },
    {
      "cell_type": "code",
      "source": [
        "wealth =  np.random.randint(low = 250, high = 1000, size=n)\n",
        "# networkInitial(n, wealth) # 0 Time step\n",
        "alpha = 1 # Performance weight parameter\n",
        "beta = 2 # Wealth weight parameter\n",
        "steps = 1000  # Number of time steps\n",
        "\n",
        "for i in range(steps):\n",
        "  if i == 0:\n",
        "    bm_vector = brownian_motion(1, n, mu, sigma)\n",
        "    bm_vector = np.clip(bm_vector, -0.90, None) # Government intervention\n",
        "\n",
        "    wealth = update_wealth(wealth, bm_vector)\n",
        "    prob_matrix = copyingProbability(wealth, bm_vector, alpha , beta)\n",
        "\n",
        "  else:\n",
        "    bm_vector = brownian_motion(1, n, mu, sigma)\n",
        "    bm_vector = np.clip(bm_vector, -0.90, None) # Government intervention\n",
        "    wealth, prob_matrix = process_time_step_n(prob_matrix, bm_vector, wealth, alpha , beta)\n",
        "    if i in {0, 24, 49, 99, 499, 999}:\n",
        "      column_sums = prob_matrix.sum(axis=0)\n",
        "      rounded_sums = np.round(column_sums, 3)\n",
        "      for idx, val in enumerate(rounded_sums):\n",
        "        print(f\"Node {idx}: {val}\")\n",
        "\n",
        "\n",
        "  if i in {0, 24, 49, 99, 499, 999}:\n",
        "    networkMaker(n, prob_matrix, bm_vector, i, alpha, beta)"
      ],
      "metadata": {
        "id": "uKvFAEKrMImD",
        "colab": {
          "base_uri": "https://localhost:8080/",
          "height": 1000
        },
        "collapsed": true,
        "outputId": "b483345b-b3af-4b37-ddcc-2ee14bffa0e2"
      },
      "execution_count": null,
      "outputs": []
    },
    {
      "cell_type": "code",
      "source": [
        "drift = np.round(mu, 4)\n",
        "\n",
        "idMax = np.argmax(drift)\n",
        "valMAX = drift[idMax]\n",
        "\n",
        "print(f\"Argmax index: {idMax}, Value: {valMAX}\")\n",
        "\n",
        "# Mask the max value so it's not considered, for second max\n",
        "masked = drift.copy()\n",
        "masked[idMax] = -np.inf  # or a very small number if negatives are valid in your data\n",
        "# Get the index and value of the second max\n",
        "second_idx = np.argmax(masked)\n",
        "second_val = drift[second_idx]\n",
        "print(f\"Second max index: {second_idx}, Value: {second_val}\")\n",
        "\n",
        "for idx, val in enumerate(drift):\n",
        "  print(f\"Node {idx}: {val}\")"
      ],
      "metadata": {
        "colab": {
          "base_uri": "https://localhost:8080/"
        },
        "id": "5oAL5Q407qQ2",
        "outputId": "6497969c-212b-46f8-90ce-c3c55765d48d",
        "collapsed": true
      },
      "execution_count": null,
      "outputs": [
        {
          "output_type": "stream",
          "name": "stdout",
          "text": [
            "Argmax index: 19, Value: 0.4877\n",
            "Second max index: 34, Value: 0.4759\n",
            "Node 0: -0.2392\n",
            "Node 1: -0.2097\n",
            "Node 2: -0.0034\n",
            "Node 3: 0.4632\n",
            "Node 4: 0.4727\n",
            "Node 5: 0.3992\n",
            "Node 6: -0.0562\n",
            "Node 7: -0.278\n",
            "Node 8: -0.3471\n",
            "Node 9: -0.0332\n",
            "Node 10: 0.0978\n",
            "Node 11: -0.1421\n",
            "Node 12: 0.234\n",
            "Node 13: -0.0657\n",
            "Node 14: 0.0851\n",
            "Node 15: -0.4188\n",
            "Node 16: -0.3111\n",
            "Node 17: -0.2866\n",
            "Node 18: -0.0622\n",
            "Node 19: 0.4877\n",
            "Node 20: 0.3968\n",
            "Node 21: -0.1721\n",
            "Node 22: -0.0721\n",
            "Node 23: -0.182\n",
            "Node 24: -0.3767\n",
            "Node 25: -0.0711\n",
            "Node 26: -0.0623\n",
            "Node 27: 0.3509\n",
            "Node 28: -0.2988\n",
            "Node 29: -0.2476\n",
            "Node 30: 0.0625\n",
            "Node 31: -0.3273\n",
            "Node 32: -0.4939\n",
            "Node 33: 0.2984\n",
            "Node 34: 0.4759\n",
            "Node 35: -0.3367\n",
            "Node 36: -0.3255\n",
            "Node 37: 0.1088\n",
            "Node 38: -0.4265\n",
            "Node 39: 0.0604\n",
            "Node 40: 0.0127\n",
            "Node 41: 0.3307\n",
            "Node 42: -0.4634\n",
            "Node 43: -0.291\n",
            "Node 44: -0.356\n",
            "Node 45: 0.273\n",
            "Node 46: 0.4135\n",
            "Node 47: -0.3294\n",
            "Node 48: 0.295\n",
            "Node 49: -0.2778\n"
          ]
        }
      ]
    },
    {
      "cell_type": "code",
      "source": [
        "influences = []\n",
        "wealth = np.random.randint(low=250, high=1000, size=n)\n",
        "alpha = 1\n",
        "beta = 500\n",
        "\n",
        "for i in range(steps):\n",
        "    bm_vector = brownian_motion(1, n, mu, sigma)\n",
        "    bm_vector = np.clip(bm_vector, -0.90, None)\n",
        "\n",
        "    if i == 0:\n",
        "        wealth = update_wealth(wealth, bm_vector)\n",
        "        prob_matrix = copyingProbability(wealth, bm_vector, alpha, beta)\n",
        "    else:\n",
        "        wealth, prob_matrix = process_time_step_n(prob_matrix, bm_vector, wealth, alpha, beta)\n",
        "\n",
        "    # Efficient influence tracking\n",
        "    column_sums = prob_matrix.sum(axis=0)\n",
        "    idMax = np.argmax(column_sums)\n",
        "    influence = column_sums[idMax] / n\n",
        "    influences.append(influence)"
      ],
      "metadata": {
        "id": "j3zCIh9Q9LVE"
      },
      "execution_count": null,
      "outputs": []
    },
    {
      "cell_type": "code",
      "source": [
        "import matplotlib.pyplot as plt\n",
        "\n",
        "plt.figure(figsize=(10, 5))\n",
        "plt.plot(range(steps), influences, color='blue', linewidth=2)\n",
        "plt.xlabel(\"Iteration\")\n",
        "plt.ylabel(\"Normalized Influence of Most Copied Node\")\n",
        "plt.title(\"Influence of Dominant Node Over Time\")\n",
        "plt.grid(True)\n",
        "plt.tight_layout()\n",
        "plt.show()"
      ],
      "metadata": {
        "colab": {
          "base_uri": "https://localhost:8080/",
          "height": 507
        },
        "id": "bnlFu8J6-QX1",
        "outputId": "1293bb21-6e44-4f99-8ef8-2fe31547a1f0"
      },
      "execution_count": null,
      "outputs": [
        {
          "output_type": "display_data",
          "data": {
            "text/plain": [
              "<Figure size 1000x500 with 1 Axes>"
            ],
            "image/png": "[encoded data removed]"
          },
          "metadata": {}
        }
      ]
    }
  ]
}